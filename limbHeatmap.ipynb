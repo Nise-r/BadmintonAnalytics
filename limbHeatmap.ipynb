{
 "cells": [
  {
   "cell_type": "code",
   "execution_count": 1,
   "id": "bf486528",
   "metadata": {},
   "outputs": [
    {
     "name": "stderr",
     "output_type": "stream",
     "text": [
      "2025-04-17 18:53:50.844458: I tensorflow/core/platform/cpu_feature_guard.cc:193] This TensorFlow binary is optimized with oneAPI Deep Neural Network Library (oneDNN) to use the following CPU instructions in performance-critical operations:  SSE4.1 SSE4.2 AVX AVX2 FMA\n",
      "To enable them in other operations, rebuild TensorFlow with the appropriate compiler flags.\n"
     ]
    }
   ],
   "source": [
    "import tensorflow as tf\n",
    "import numpy as np\n",
    "import cv2\n",
    "import matplotlib.pyplot as plt\n",
    "import os\n",
    "# from sklearn.preprocessing import LabelEncoder\n"
   ]
  },
  {
   "cell_type": "code",
   "execution_count": 1,
   "id": "6c9650bd",
   "metadata": {},
   "outputs": [
    {
     "name": "stderr",
     "output_type": "stream",
     "text": [
      "2025-05-16 19:14:13.414484: I tensorflow/core/platform/cpu_feature_guard.cc:193] This TensorFlow binary is optimized with oneAPI Deep Neural Network Library (oneDNN) to use the following CPU instructions in performance-critical operations:  SSE4.1 SSE4.2 AVX AVX2 FMA\n",
      "To enable them in other operations, rebuild TensorFlow with the appropriate compiler flags.\n",
      "/Users/apple/miniconda3/envs/ML/lib/python3.10/site-packages/pandas/core/arrays/masked.py:60: UserWarning: Pandas requires version '1.3.6' or newer of 'bottleneck' (version '1.3.5' currently installed).\n",
      "  from pandas.core import (\n"
     ]
    }
   ],
   "source": [
    "import cv2\n",
    "import mediapipe as mp\n",
    "import numpy as np\n",
    "import matplotlib.pyplot as plt\n",
    "\n",
    "# COCO limb pairs\n",
    "LIMB_PAIRS = [\n",
    "    (5, 7), (7, 9),     # Left arm\n",
    "    (6, 8), (8, 10),    # Right arm\n",
    "    (11, 13), (13, 15), # Left leg\n",
    "    (12, 14), (14, 16), # Right leg\n",
    "    (5, 6), (11, 12),   # Shoulders, hips\n",
    "    (0, 1), (0, 2), (1, 3), (2, 4)  # Head\n",
    "]\n",
    "\n",
    "COCO_MAP = {\n",
    "    0: 0, 1: 2, 2: 5, 3: 7, 4: 8,\n",
    "    5: 11, 6: 12, 7: 13, 8: 14, 9: 15,\n",
    "    10: 16, 11: 23, 12: 24, 13: 25,\n",
    "    14: 26, 15: 27, 16: 28\n",
    "}\n",
    "\n",
    "def mediapipe_to_coco(mp_landmarks, width, height):\n",
    "    keypoints_coco = []\n",
    "    for coco_id in range(17):\n",
    "        mp_id = COCO_MAP[coco_id]\n",
    "        lm = mp_landmarks[mp_id]\n",
    "        x = int(lm.x * width)\n",
    "        y = int(lm.y * height)\n",
    "        keypoints_coco.append((x, y, lm.visibility))\n",
    "    return keypoints_coco\n",
    "\n",
    "def draw_limb_heatmap(keypoints, image_size, sigma=8):\n",
    "    h, w = image_size\n",
    "    heatmap = np.zeros((h, w), dtype=np.float32)\n",
    "\n",
    "    for (start_idx, end_idx) in LIMB_PAIRS:\n",
    "        x1, y1, s1 = keypoints[start_idx]\n",
    "        x2, y2, s2 = keypoints[end_idx]\n",
    "        if s1 < 0.1 or s2 < 0.1:\n",
    "            continue\n",
    "        canvas = np.zeros((h, w), dtype=np.uint8)\n",
    "        cv2.line(canvas, (x1, y1), (x2, y2), color=255, thickness=2*sigma)\n",
    "        canvas = cv2.GaussianBlur(canvas, (0, 0), sigmaX=sigma, sigmaY=sigma)\n",
    "        canvas = canvas.astype(np.float32) / 255.0\n",
    "        heatmap = np.maximum(heatmap, canvas)\n",
    "    return heatmap\n",
    "\n"
   ]
  },
  {
   "cell_type": "markdown",
   "id": "95975fe9",
   "metadata": {},
   "source": [
    "### Load the dataset of cropped player frames and convert it into heatmap dataset of frames"
   ]
  },
  {
   "cell_type": "code",
   "execution_count": 2,
   "id": "ef3d5b9e",
   "metadata": {},
   "outputs": [],
   "source": [
    "X = np.load('/Users/apple/Desktop/newData/X-smash2.npy')"
   ]
  },
  {
   "cell_type": "code",
   "execution_count": 3,
   "id": "2b2ad26f",
   "metadata": {},
   "outputs": [
    {
     "data": {
      "text/plain": [
       "(47, 10, 250, 250, 3)"
      ]
     },
     "execution_count": 3,
     "metadata": {},
     "output_type": "execute_result"
    }
   ],
   "source": [
    "X.shape"
   ]
  },
  {
   "cell_type": "code",
   "execution_count": 4,
   "id": "090d31c0",
   "metadata": {
    "scrolled": false
   },
   "outputs": [
    {
     "name": "stderr",
     "output_type": "stream",
     "text": [
      "WARNING: All log messages before absl::InitializeLog() is called are written to STDERR\n",
      "I0000 00:00:1747403075.371974   55437 gl_context.cc:369] GL version: 2.1 (2.1 ATI-4.14.1), renderer: AMD Radeon Pro 555 OpenGL Engine\n",
      "INFO: Created TensorFlow Lite XNNPACK delegate for CPU.\n",
      "W0000 00:00:1747403075.529932   56825 inference_feedback_manager.cc:114] Feedback manager requires a model with a single signature inference. Disabling support for feedback tensors.\n",
      "W0000 00:00:1747403075.564898   56824 inference_feedback_manager.cc:114] Feedback manager requires a model with a single signature inference. Disabling support for feedback tensors.\n",
      "W0000 00:00:1747403075.586723   56826 landmark_projection_calculator.cc:186] Using NORM_RECT without IMAGE_DIMENSIONS is only supported for the square ROI. Provide IMAGE_DIMENSIONS or use PROJECTION_MATRIX.\n"
     ]
    },
    {
     "name": "stdout",
     "output_type": "stream",
     "text": [
      "(47, 10, 250, 250)\n"
     ]
    }
   ],
   "source": [
    "pose = mp.solutions.pose.Pose(min_detection_confidence=0.7,min_tracking_confidence=0.7)\n",
    "Xh = []\n",
    "for i in range(0,X.shape[0]):\n",
    "    f = []\n",
    "    for j in range(0,10):\n",
    "        img = X[i][j]\n",
    "        h,w = img.shape[:2]\n",
    "        \n",
    "        img_rgb = cv2.cvtColor(img, cv2.COLOR_BGR2RGB)\n",
    "\n",
    "#         pose = mp.solutions.pose.Pose(static_image_mode=True)\n",
    "#         pose = mp.solutions.pose.Pose(min_detection_confidence=0.7,min_tracking_confidence=0.7)\n",
    "        results = pose.process(img_rgb)\n",
    "        \n",
    "        if results.pose_landmarks:\n",
    "            keypoints_coco = mediapipe_to_coco(results.pose_landmarks.landmark, w, h)\n",
    "            heatmap = draw_limb_heatmap(keypoints_coco, (h, w))\n",
    "            \n",
    "            f.append(heatmap)\n",
    "\n",
    "    f = np.asarray(f)\n",
    "    if f.shape[0]==10:\n",
    "        Xh.append(f)\n",
    "\n",
    "Xh = np.asarray(Xh)\n",
    "print(Xh.shape)\n",
    "\n"
   ]
  },
  {
   "cell_type": "code",
   "execution_count": null,
   "id": "6bc013b1",
   "metadata": {},
   "outputs": [],
   "source": []
  },
  {
   "cell_type": "code",
   "execution_count": 6,
   "id": "bcf6d0c5",
   "metadata": {},
   "outputs": [],
   "source": [
    "k=0"
   ]
  },
  {
   "cell_type": "code",
   "execution_count": 7,
   "id": "ced74595",
   "metadata": {},
   "outputs": [
    {
     "data": {
      "image/png": "[encoded data removed]",
      "text/plain": [
       "<Figure size 1500x800 with 10 Axes>"
      ]
     },
     "metadata": {},
     "output_type": "display_data"
    }
   ],
   "source": [
    "plt.figure(figsize=(15,8))\n",
    "for i in range(0,10):\n",
    "    plt.subplot(5,10,i+1)\n",
    "    plt.imshow(Xh[k][i],cmap='gray')\n",
    "\n",
    "k+=1\n",
    "    "
   ]
  },
  {
   "cell_type": "code",
   "execution_count": null,
   "id": "321089c5",
   "metadata": {},
   "outputs": [],
   "source": []
  },
  {
   "cell_type": "code",
   "execution_count": 39,
   "id": "e8521600",
   "metadata": {},
   "outputs": [],
   "source": [
    "np.save('/Users/apple/Desktop/newData/HX-smash.npy',Xh)"
   ]
  },
  {
   "cell_type": "code",
   "execution_count": null,
   "id": "19117377",
   "metadata": {},
   "outputs": [],
   "source": []
  },
  {
   "cell_type": "code",
   "execution_count": null,
   "id": "ff09f45d",
   "metadata": {},
   "outputs": [],
   "source": []
  },
  {
   "cell_type": "code",
   "execution_count": null,
   "id": "5f42e7b9",
   "metadata": {},
   "outputs": [],
   "source": []
  }
 ],
 "metadata": {
  "kernelspec": {
   "display_name": "Python 3 (ipykernel)",
   "language": "python",
   "name": "python3"
  },
  "language_info": {
   "codemirror_mode": {
    "name": "ipython",
    "version": 3
   },
   "file_extension": ".py",
   "mimetype": "text/x-python",
   "name": "python",
   "nbconvert_exporter": "python",
   "pygments_lexer": "ipython3",
   "version": "3.10.13"
  }
 },
 "nbformat": 4,
 "nbformat_minor": 5
}
